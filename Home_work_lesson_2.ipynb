{
  "nbformat": 4,
  "nbformat_minor": 0,
  "metadata": {
    "colab": {
      "provenance": [],
      "collapsed_sections": [],
      "authorship_tag": "ABX9TyO8IErN6dg56DtFQq2PC3AS",
      "include_colab_link": true
    },
    "kernelspec": {
      "name": "python3",
      "display_name": "Python 3"
    },
    "language_info": {
      "name": "python"
    }
  },
  "cells": [
    {
      "cell_type": "markdown",
      "metadata": {
        "id": "view-in-github",
        "colab_type": "text"
      },
      "source": [
        "<a href=\"https://colab.research.google.com/github/alsu198613/Data-Science-Libraries/blob/main/Home_work_lesson_2.ipynb\" target=\"_parent\"><img src=\"https://colab.research.google.com/assets/colab-badge.svg\" alt=\"Open In Colab\"/></a>"
      ]
    },
    {
      "cell_type": "markdown",
      "source": [
        "##**Тема “Вычисления с помощью Numpy”**\n",
        "\n",
        "###**Задание 1**\n",
        "\n",
        "**Импортируйте библиотеку Numpy и дайте ей псевдоним np.\n",
        "Создайте массив Numpy под названием a размером 5x2, то есть состоящий из 5 строк и 2 столбцов.\n",
        "Первый столбец должен содержать числа 1, 2, 3, 3, 1, а второй - числа 6, 8, 11, 10, 7. Будем считать,\n",
        "что каждый столбец - это признак, а строка - наблюдение. Затем найдите среднее значение по\n",
        "каждому признаку, используя метод mean массива Numpy. Результат запишите в массив mean_a, в\n",
        "нем должно быть 2 элемента.**"
      ],
      "metadata": {
        "id": "yI6-8odGtcKx"
      }
    },
    {
      "cell_type": "code",
      "execution_count": 1,
      "metadata": {
        "id": "q5nb9rZ3tVMY"
      },
      "outputs": [],
      "source": [
        "import numpy as np"
      ]
    },
    {
      "cell_type": "code",
      "source": [
        "a = np.array(\n",
        "    [[1, 2, 3, 3, 1], \n",
        "    [6, 8, 11, 10, 7]]\n",
        ").transpose()\n",
        "print(a)"
      ],
      "metadata": {
        "colab": {
          "base_uri": "https://localhost:8080/"
        },
        "id": "GB9BQ9wxtkBl",
        "outputId": "48c696db-68ea-413c-c7a8-17ee880e9f43"
      },
      "execution_count": 2,
      "outputs": [
        {
          "output_type": "stream",
          "name": "stdout",
          "text": [
            "[[ 1  6]\n",
            " [ 2  8]\n",
            " [ 3 11]\n",
            " [ 3 10]\n",
            " [ 1  7]]\n"
          ]
        }
      ]
    },
    {
      "cell_type": "code",
      "source": [
        "mean_a = np.mean(a, axis = 0)\n",
        "print(mean_a)"
      ],
      "metadata": {
        "colab": {
          "base_uri": "https://localhost:8080/"
        },
        "id": "rx8ZxYa0uW0Z",
        "outputId": "b36e79d8-7402-407b-c887-2efda5664256"
      },
      "execution_count": 3,
      "outputs": [
        {
          "output_type": "stream",
          "name": "stdout",
          "text": [
            "[2.  8.4]\n"
          ]
        }
      ]
    },
    {
      "cell_type": "markdown",
      "source": [
        "###**Задание 2**\n",
        "\n",
        "**Вычислите массив a_centered, отняв от значений массива “а” средние значения соответствующих\n",
        "признаков, содержащиеся в массиве mean_a. Вычисление должно производиться в одно действие.\n",
        "Получившийся массив должен иметь размер 5x2.**"
      ],
      "metadata": {
        "id": "CRvaeR6Qurw5"
      }
    },
    {
      "cell_type": "code",
      "source": [
        "a_centered = a - mean_a\n",
        "print(a_centered)"
      ],
      "metadata": {
        "colab": {
          "base_uri": "https://localhost:8080/"
        },
        "id": "hlNUIn1Huovd",
        "outputId": "a62b94be-c171-4cb7-b3cf-c3f8dda836e2"
      },
      "execution_count": 4,
      "outputs": [
        {
          "output_type": "stream",
          "name": "stdout",
          "text": [
            "[[-1.  -2.4]\n",
            " [ 0.  -0.4]\n",
            " [ 1.   2.6]\n",
            " [ 1.   1.6]\n",
            " [-1.  -1.4]]\n"
          ]
        }
      ]
    },
    {
      "cell_type": "markdown",
      "source": [
        "###**Задание 3**\n",
        "**Найдите скалярное произведение столбцов массива a_centered. В результате должна получиться\n",
        "величина a_centered_sp. Затем поделите a_centered_sp на N-1, где N - число наблюдений.**"
      ],
      "metadata": {
        "id": "YmeNiCMlvzZ2"
      }
    },
    {
      "cell_type": "code",
      "source": [
        "a_centered_sp = a_centered.T[0] @ a_centered.T[1]\n",
        "print(a_centered_sp)"
      ],
      "metadata": {
        "colab": {
          "base_uri": "https://localhost:8080/"
        },
        "id": "wuWgSsrwvuWz",
        "outputId": "bdf90e5e-8ec9-47d6-a628-e2dc7c44693c"
      },
      "execution_count": 5,
      "outputs": [
        {
          "output_type": "stream",
          "name": "stdout",
          "text": [
            "8.0\n"
          ]
        }
      ]
    },
    {
      "cell_type": "code",
      "source": [
        "a_centered_sp / (a_centered.shape[0] - 1)"
      ],
      "metadata": {
        "colab": {
          "base_uri": "https://localhost:8080/"
        },
        "id": "ef1HOwyCwBWg",
        "outputId": "6ca7872a-de0e-48f6-b7d1-f97f6e956370"
      },
      "execution_count": 6,
      "outputs": [
        {
          "output_type": "execute_result",
          "data": {
            "text/plain": [
              "2.0"
            ]
          },
          "metadata": {},
          "execution_count": 6
        }
      ]
    },
    {
      "cell_type": "markdown",
      "source": [
        "###**Задание 4** **\n",
        "**Число, которое мы получили в конце задания 3 является ковариацией двух признаков, содержащихся\n",
        "в массиве “а”. В задании 4 мы делили сумму произведений центрированных признаков на N-1, а не на\n",
        "N, поэтому полученная нами величина является несмещенной оценкой ковариации.\n",
        "Подробнее узнать о ковариации можно здесь:\n",
        "Выборочная ковариация и выборочная дисперсия — Студопедия\n",
        "В этом задании проверьте получившееся число, вычислив ковариацию еще одним способом - с\n",
        "помощью функции np.cov. В качестве аргумента m функция np.cov должна принимать\n",
        "транспонированный массив “a”. В получившейся ковариационной матрице (массив Numpy размером\n",
        "2x2) искомое значение ковариации будет равно элементу в строке с индексом 0 и столбце с индексом\n",
        "1.**"
      ],
      "metadata": {
        "id": "QY3sbdNpwSfO"
      }
    },
    {
      "cell_type": "code",
      "source": [
        "np.cov(a.T)[0, 1]"
      ],
      "metadata": {
        "colab": {
          "base_uri": "https://localhost:8080/"
        },
        "id": "kPk0ktK-wEKX",
        "outputId": "372e14f2-cd1f-4fb6-92ef-757bef077d5d"
      },
      "execution_count": 7,
      "outputs": [
        {
          "output_type": "execute_result",
          "data": {
            "text/plain": [
              "2.0"
            ]
          },
          "metadata": {},
          "execution_count": 7
        }
      ]
    },
    {
      "cell_type": "markdown",
      "source": [
        "##Тема “Работа с данными в Pandas”\n",
        "###**Задание 1**\n",
        "**Импортируйте библиотеку Pandas и дайте ей псевдоним pd. Создайте датафрейм authors со\n",
        "столбцами author_id и author_name, в которых соответственно содержатся данные: [1, 2, 3] и\n",
        "['Тургенев', 'Чехов', 'Островский'].\n",
        "Затем создайте датафрейм book cо столбцами author_id, book_title и price, в которых соответственно\n",
        "содержатся данные:\n",
        "[1, 1, 1, 2, 2, 3, 3],\n",
        "['Отцы и дети', 'Рудин', 'Дворянское гнездо', 'Толстый и тонкий', 'Дама с собачкой', 'Гроза', 'Таланты и\n",
        "поклонники'],\n",
        "[450, 300, 350, 500, 450, 370, 290].**"
      ],
      "metadata": {
        "id": "smfhaD8xwny7"
      }
    },
    {
      "cell_type": "code",
      "source": [
        "import pandas as pd"
      ],
      "metadata": {
        "id": "ogom81neweY8"
      },
      "execution_count": 8,
      "outputs": []
    },
    {
      "cell_type": "code",
      "source": [
        "authors = pd.DataFrame({'author_id':[1, 2, 3], \n",
        "                        'author_name':['Тургенев', 'Чехов', 'Островский']}, \n",
        "                       columns=['author_id', 'author_name'])\n",
        "print(authors)"
      ],
      "metadata": {
        "colab": {
          "base_uri": "https://localhost:8080/"
        },
        "id": "BiFdvnsDxAVj",
        "outputId": "e82d43ed-b019-4873-9cc3-1ebbb68dc5c5"
      },
      "execution_count": 9,
      "outputs": [
        {
          "output_type": "stream",
          "name": "stdout",
          "text": [
            "   author_id author_name\n",
            "0          1    Тургенев\n",
            "1          2       Чехов\n",
            "2          3  Островский\n"
          ]
        }
      ]
    },
    {
      "cell_type": "code",
      "source": [
        "book = pd.DataFrame({'author_id':[1, 1, 1, 2, 2, 3, 3], \n",
        "                     'book_title':['Отцы и дети', 'Рудин', 'Дворянское гнездо', 'Толстый и тонкий', 'Дама с собачкой', 'Гроза', 'Таланты и поклонники'], \n",
        "                     'price':[450, 300, 350, 500, 450, 370, 290]}, \n",
        "                    columns=['author_id', 'book_title', 'price'])\n",
        "print(book)"
      ],
      "metadata": {
        "colab": {
          "base_uri": "https://localhost:8080/"
        },
        "id": "K9ooO_zZxDIy",
        "outputId": "5eea5c25-f571-4c3c-9781-92e9abfff253"
      },
      "execution_count": 10,
      "outputs": [
        {
          "output_type": "stream",
          "name": "stdout",
          "text": [
            "   author_id            book_title  price\n",
            "0          1           Отцы и дети    450\n",
            "1          1                 Рудин    300\n",
            "2          1     Дворянское гнездо    350\n",
            "3          2      Толстый и тонкий    500\n",
            "4          2       Дама с собачкой    450\n",
            "5          3                 Гроза    370\n",
            "6          3  Таланты и поклонники    290\n"
          ]
        }
      ]
    },
    {
      "cell_type": "markdown",
      "source": [
        "###**Задание 2**\n",
        "**Получите датафрейм authors_price, соединив датафреймы authors и books по полю author_id.**"
      ],
      "metadata": {
        "id": "tt9leJn7xQo5"
      }
    },
    {
      "cell_type": "code",
      "source": [
        "authors_price = pd.merge(authors, book, on = 'author_id', how = 'outer')\n",
        "print(authors_price)"
      ],
      "metadata": {
        "colab": {
          "base_uri": "https://localhost:8080/"
        },
        "id": "IlLRHmYcxJ19",
        "outputId": "4150e184-de18-4a5d-83fa-1c466329b91d"
      },
      "execution_count": 11,
      "outputs": [
        {
          "output_type": "stream",
          "name": "stdout",
          "text": [
            "   author_id author_name            book_title  price\n",
            "0          1    Тургенев           Отцы и дети    450\n",
            "1          1    Тургенев                 Рудин    300\n",
            "2          1    Тургенев     Дворянское гнездо    350\n",
            "3          2       Чехов      Толстый и тонкий    500\n",
            "4          2       Чехов       Дама с собачкой    450\n",
            "5          3  Островский                 Гроза    370\n",
            "6          3  Островский  Таланты и поклонники    290\n"
          ]
        }
      ]
    },
    {
      "cell_type": "markdown",
      "source": [
        "###**Задание 3**\n",
        "**Создайте датафрейм top5, в котором содержатся строки из authors_price с пятью самыми дорогими\n",
        "книгами.**"
      ],
      "metadata": {
        "id": "xVlNaRdgxf8d"
      }
    },
    {
      "cell_type": "code",
      "source": [
        "top5 = authors_price.nlargest(5, 'price')\n",
        "print(top5)"
      ],
      "metadata": {
        "colab": {
          "base_uri": "https://localhost:8080/"
        },
        "id": "ZFv5WQCHxdO3",
        "outputId": "133b028a-2a7d-4010-a0c9-3ccc1daa3efd"
      },
      "execution_count": 12,
      "outputs": [
        {
          "output_type": "stream",
          "name": "stdout",
          "text": [
            "   author_id author_name         book_title  price\n",
            "3          2       Чехов   Толстый и тонкий    500\n",
            "0          1    Тургенев        Отцы и дети    450\n",
            "4          2       Чехов    Дама с собачкой    450\n",
            "5          3  Островский              Гроза    370\n",
            "2          1    Тургенев  Дворянское гнездо    350\n"
          ]
        }
      ]
    },
    {
      "cell_type": "markdown",
      "source": [
        "###**Задание 4**\n",
        "**Создайте датафрейм authors_stat на основе информации из authors_price. В датафрейме authors_stat\n",
        "должны быть четыре столбца:\n",
        "author_name, min_price, max_price и mean_price,\n",
        "в которых должны содержаться соответственно имя автора, минимальная, максимальная и средняя\n",
        "цена на книги этого автора.**"
      ],
      "metadata": {
        "id": "_qDC3uZYxqyA"
      }
    },
    {
      "cell_type": "code",
      "source": [
        "authors_stat = authors_price.groupby('author_name').agg({'price':['min', 'max', 'mean']})\n",
        "authors_stat = authors_stat.rename(columns={'min':'min_price', 'max':'max_price', 'mean':'mean_price'})\n",
        "print(authors_stat)"
      ],
      "metadata": {
        "colab": {
          "base_uri": "https://localhost:8080/"
        },
        "id": "lRBmVKjDxmru",
        "outputId": "76ad4283-cf37-4ccc-bd7b-b0581bf28e4b"
      },
      "execution_count": 13,
      "outputs": [
        {
          "output_type": "stream",
          "name": "stdout",
          "text": [
            "                price                      \n",
            "            min_price max_price  mean_price\n",
            "author_name                                \n",
            "Островский        290       370  330.000000\n",
            "Тургенев          300       450  366.666667\n",
            "Чехов             450       500  475.000000\n"
          ]
        }
      ]
    },
    {
      "cell_type": "markdown",
      "source": [
        "###**Задание 5** **\n",
        "**Создайте новый столбец в датафрейме authors_price под названием cover, в нем будут располагаться\n",
        "данные о том, какая обложка у данной книги - твердая или мягкая. В этот столбец поместите данные\n",
        "из следующего списка:\n",
        "['твердая', 'мягкая', 'мягкая', 'твердая', 'твердая', 'мягкая', 'мягкая'].\n",
        "Просмотрите документацию по функции pd.pivot_table с помощью вопросительного знака.Для каждого\n",
        "автора посчитайте суммарную стоимость книг в твердой и мягкой обложке. Используйте для этого\n",
        "функцию pd.pivot_table. При этом столбцы должны называться \"твердая\" и \"мягкая\", а индексами\n",
        "должны быть фамилии авторов. Пропущенные значения стоимостей заполните нулями, при\n",
        "необходимости загрузите библиотеку Numpy.\n",
        "Назовите полученный датасет book_info и сохраните его в формат pickle под названием\n",
        "\"book_info.pkl\". Затем загрузите из этого файла датафрейм и назовите его book_info2. Удостоверьтесь,\n",
        "что датафреймы book_info и book_info2 идентичны.**"
      ],
      "metadata": {
        "id": "NOZWMkkKx4Kc"
      }
    },
    {
      "cell_type": "code",
      "source": [
        "authors_price['cover'] = ['твердая', 'мягкая', 'мягкая', 'твердая', 'твердая', 'мягкая', 'мягкая']\n",
        "print(authors_price)"
      ],
      "metadata": {
        "colab": {
          "base_uri": "https://localhost:8080/"
        },
        "id": "F0wibUHvx0Ab",
        "outputId": "10b033ad-823e-4d70-ac42-c00619e1f1a1"
      },
      "execution_count": 14,
      "outputs": [
        {
          "output_type": "stream",
          "name": "stdout",
          "text": [
            "   author_id author_name            book_title  price    cover\n",
            "0          1    Тургенев           Отцы и дети    450  твердая\n",
            "1          1    Тургенев                 Рудин    300   мягкая\n",
            "2          1    Тургенев     Дворянское гнездо    350   мягкая\n",
            "3          2       Чехов      Толстый и тонкий    500  твердая\n",
            "4          2       Чехов       Дама с собачкой    450  твердая\n",
            "5          3  Островский                 Гроза    370   мягкая\n",
            "6          3  Островский  Таланты и поклонники    290   мягкая\n"
          ]
        }
      ]
    },
    {
      "cell_type": "code",
      "source": [
        "book_info = pd.pivot_table(authors_price, values='price', index=['author_name'], columns=['cover'], aggfunc=np.sum)\n",
        "book_info['мягкая'] = book_info['мягкая'].fillna(0)\n",
        "book_info['твердая'] = book_info['твердая'].fillna(0)\n",
        "print(book_info)"
      ],
      "metadata": {
        "colab": {
          "base_uri": "https://localhost:8080/"
        },
        "id": "UZhQ7RKNyCPC",
        "outputId": "6afdeadc-0a56-4d8a-bbee-5b1471232c63"
      },
      "execution_count": 15,
      "outputs": [
        {
          "output_type": "stream",
          "name": "stdout",
          "text": [
            "cover        мягкая  твердая\n",
            "author_name                 \n",
            "Островский    660.0      0.0\n",
            "Тургенев      650.0    450.0\n",
            "Чехов           0.0    950.0\n"
          ]
        }
      ]
    },
    {
      "cell_type": "code",
      "source": [
        "book_info.to_pickle('book_info.pkl')"
      ],
      "metadata": {
        "id": "CA2xqfqCyFQC"
      },
      "execution_count": 16,
      "outputs": []
    },
    {
      "cell_type": "code",
      "source": [
        "book_info2 = pd.read_pickle('book_info.pkl')"
      ],
      "metadata": {
        "id": "0FrdyUW-yIpB"
      },
      "execution_count": 17,
      "outputs": []
    },
    {
      "cell_type": "code",
      "source": [
        "book_info.equals(book_info2)"
      ],
      "metadata": {
        "colab": {
          "base_uri": "https://localhost:8080/"
        },
        "id": "rls60mMxyKzd",
        "outputId": "f9892bbf-97a9-4183-9389-1ca742fd886c"
      },
      "execution_count": 18,
      "outputs": [
        {
          "output_type": "execute_result",
          "data": {
            "text/plain": [
              "True"
            ]
          },
          "metadata": {},
          "execution_count": 18
        }
      ]
    }
  ]
}